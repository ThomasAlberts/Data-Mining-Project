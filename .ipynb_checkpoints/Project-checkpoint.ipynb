{
 "cells": [
  {
   "cell_type": "raw",
   "source": [],
   "metadata": {
    "collapsed": false
   },
   "id": "63157ab3525c8a29"
  }
 ],
 "metadata": {},
 "nbformat": 4,
 "nbformat_minor": 5
}
